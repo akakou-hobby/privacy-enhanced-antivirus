{
  "nbformat": 4,
  "nbformat_minor": 0,
  "metadata": {
    "colab": {
      "name": "train_antivirus.ipynb",
      "provenance": [],
      "collapsed_sections": [],
      "toc_visible": true,
      "authorship_tag": "ABX9TyMA8yVNwWZjmnlDgCCL3NPC",
      "include_colab_link": true
    },
    "kernelspec": {
      "name": "python3",
      "display_name": "Python 3"
    },
    "language_info": {
      "name": "python"
    }
  },
  "cells": [
    {
      "cell_type": "markdown",
      "metadata": {
        "id": "view-in-github",
        "colab_type": "text"
      },
      "source": [
        "<a href=\"https://colab.research.google.com/github/akakou/privacy-enhanced-antivirus/blob/main/train_antivirus.ipynb\" target=\"_parent\"><img src=\"https://colab.research.google.com/assets/colab-badge.svg\" alt=\"Open In Colab\"/></a>"
      ]
    },
    {
      "cell_type": "code",
      "metadata": {
        "colab": {
          "base_uri": "https://localhost:8080/"
        },
        "id": "Vm1ISthGwQAD",
        "outputId": "19d92e63-3367-4a16-b1d8-a646560de972"
      },
      "source": [
        "\"\"\"Donwload datasets\"\"\"\n",
        "\n",
        "PASSWORD = \"i6HJnN5p\"\n",
        "!wget https://web.sfc.wide.ad.jp/~akakou/{PASSWORD}.zip\n",
        "!mkdir dataset\n",
        "!cd dataset && unzip ../{PASSWORD}.zip\n",
        "!cd dataset && unzip malware.zip -d malware\n",
        "!cd dataset && unzip nomalware.zip -d nomalware\n"
      ],
      "execution_count": null,
      "outputs": [
        {
          "output_type": "stream",
          "text": [
            "--2021-04-23 11:33:17--  https://web.sfc.wide.ad.jp/~akakou/i6HJnN5p.zip\n",
            "Resolving web.sfc.wide.ad.jp (web.sfc.wide.ad.jp)... 203.178.142.140, 2001:200:0:8803:203:178:142:140\n",
            "Connecting to web.sfc.wide.ad.jp (web.sfc.wide.ad.jp)|203.178.142.140|:443... connected.\n",
            "HTTP request sent, awaiting response... 200 OK\n",
            "Length: 436023945 (416M) [application/zip]\n",
            "Saving to: ‘i6HJnN5p.zip’\n",
            "\n",
            "i6HJnN5p.zip        100%[===================>] 415.82M  23.4MB/s    in 19s     \n",
            "\n",
            "2021-04-23 11:33:37 (22.3 MB/s) - ‘i6HJnN5p.zip’ saved [436023945/436023945]\n",
            "\n",
            "Archive:  ../i6HJnN5p.zip\n",
            " extracting: malware.zip             \n",
            " extracting: nomalware.zip           \n",
            "Archive:  malware.zip\n",
            "   creating: malware/img/\n",
            "  inflating: malware/img/042889c7d19b1c7aec30d171c1e147953907146ff5eb81e3bfc29ca83e962658.png  \n",
            "  inflating: malware/img/067d47afd3eea043d2c91c986300fb1128e652e5799fe2debf0a821430f067da.png  \n",
            "  inflating: malware/img/156e4ef19a0646861d315a8e26235a4bfc4ece5065bb0dcd1f2b54a231893360.png  \n",
            "  inflating: malware/img/18077f3d879632bf5bb9111ff1164adb7d359d915d90eff11f2ab286f89d0b01.png  \n",
            "  inflating: malware/img/1809776b281b6d291542e5671f9ca263466d84e4cad6b310a9bb45a393621d59.png  \n",
            "  inflating: malware/img/5222f88067bf868eba945523e736e282651263ffc9fad1a4ad85286d5a30c665.png  \n",
            "  inflating: malware/img/52247f2d0289c99c232efc0ae64b867233517443f0749b395745aab8631a3a89.png  \n",
            "  inflating: malware/img/55b4fedc285147db63cc351b2bfb8beba2538afbb9593ac44a2ff74b79181b2c.png  \n",
            "  inflating: malware/img/55bb6701ab7ed3b9c5989e1aec18ed172604482fde8dc9c6bfa4761e1e0505fc.png  \n",
            "  inflating: malware/img/55bf1986ee5b91462cb8136dce980448cfd923574424d925e4b6fa7df74605d4.png  \n",
            "  inflating: malware/img/57b04e5d1f6953eecf8378a7d3306460bcfcfe83f185ff22e8a8596b27b368b8.png  \n",
            "  inflating: malware/img/57b3eb441d1152d847d1b9e5ce81ea56eb4a7c8666c91eceab92593ab862601b.png  \n",
            "  inflating: malware/img/57bbdac9b814d93aecbb92ebcbc654f1230687d8df473db5d08266b3e5cc0c52.png  \n",
            "  inflating: malware/img/57bf2fbb8e42993d96f0e00f1d0140713a6676156ad83ad81e983099123f776e.png  \n",
            "  inflating: malware/img/57bffafee18c136558e4a51ebe2d05e8b0d70f776042f8de4a0bff80093c4f1a.png  \n",
            "  inflating: malware/img/65a466fa40165ad2fae58b18453da51aed334275bb8805351664ca6f017420ad.png  \n",
            "  inflating: malware/img/94b2447a6b2408a9a32d4129ea7828a293667825b09ce61d11dd03d5abd33833.png  \n",
            "  inflating: malware/img/94b92670036987276c51d77e329e549947e1807e087bdaa5ae32835acd479962.png  \n",
            "  inflating: malware/img/a1b718c9a0524e0ea7f5f0fd499aeb9799ff53ad5b0bde6a6a7b017febb08d10.png  \n",
            "  inflating: malware/img/a1b885b51272d2c58ccf68979a34f5f09533a17f8d4f4a00c48258fa433829bd.png  \n",
            "  inflating: malware/img/a1be321e8deb8ef6eb3e326b1ef9d7dfc1cfe7e86bbcf9f5e2573c1b77f858cc.png  \n",
            "  inflating: malware/img/aa5324e2e622ca358621e18536306e7c41f464a52da46f388cee32e2ac20e6e6.png  \n",
            "  inflating: malware/img/aa5b5b4d65def403060fbe4fb112f3a6c87786ddcf11cee3b7f167765e885d15.png  \n",
            "  inflating: malware/img/ac2736be4501b8c6823ebcf7241ceda38c3071418fb43c08b30f54f1a45d07e0.png  \n",
            "  inflating: malware/img/b2805cf824a1184e8b98ea391342917a5ada317c7ef75e57d6855a4bd9a7f0fe.png  \n",
            "  inflating: malware/img/b280aeb0424e25d7f931b41704c2f2c9e577153211ce6eded4da910b542e4623.png  \n",
            "  inflating: malware/img/b28ba2f9df7c946dce97946f8fcca54ba0d9faa79e54ca9a0badc0f9964dbb06.png  \n",
            "  inflating: malware/img/c19b5cd5db00309439b6639cc4a65cb2bb0a00295f837d370ab34c9f2528dc87.png  \n",
            "  inflating: malware/img/f6368e760e5a4e042c9eafdd10ead87832b7a6230d357c3eb948e281c18aa33d.png  \n",
            "  inflating: malware/img/f63e6224253ebc5789015d9069783307bbbb2dda8a6d1e9238b4a00722e4bcc1.png  \n",
            "  inflating: malware/img/f63eb4858e66889e8b62e6e72fe5d5620995c3fccaa8cd23043c22ddb3c6aa02.png  \n",
            "  inflating: malware/img/fd3800ebec9ff91ab48a94a10f1c95845b4657b6a3eb3fd6dd25bd8c39905345.png  \n",
            "Archive:  nomalware.zip\n",
            "   creating: nomalware/img/\n",
            "  inflating: nomalware/img/AkelPadPortable_4.9.8.paf.exe.png  \n",
            "  inflating: nomalware/img/ArthaPortable_1.0.3_English.paf.exe.png  \n",
            "  inflating: nomalware/img/BalabolkaPortable_2.15.0.780.paf.exe.png  \n",
            "  inflating: nomalware/img/BPBiblePortable_0.5.3.1.paf.exe.png  \n",
            "  inflating: nomalware/img/CelestiaPortable_1.6.2.2.paf.exe.png  \n",
            "  inflating: nomalware/img/CppcheckPortable_2.4.1.paf.exe.png  \n",
            "  inflating: nomalware/img/DicomPortable_1.1.1.paf.exe.png  \n",
            "  inflating: nomalware/img/DSpeechPortable_1.73.339.paf(1).exe.png  \n",
            "  inflating: nomalware/img/DSpeechPortable_1.73.339.paf.exe.png  \n",
            "  inflating: nomalware/img/FreeMatPortable_4.2_English.paf.exe.png  \n",
            "  inflating: nomalware/img/FrhedPortable_1.6.0_Rev_3.paf.exe.png  \n",
            "  inflating: nomalware/img/GeanyPortable_1.37.1.paf.exe.png  \n",
            "  inflating: nomalware/img/GoldenDictPortable_1.0.1_Rev_2.paf.exe.png  \n",
            "  inflating: nomalware/img/GrampsPortable_5.1.3.paf.exe.png  \n",
            "  inflating: nomalware/img/gVimPortable_8.2.paf.exe.png  \n",
            "  inflating: nomalware/img/HMNISEditPortable_2.0.3_Rev_2.paf.exe.png  \n",
            "  inflating: nomalware/img/IniTranslatorPortable_1.9.0.52_Rev_2.paf.exe.png  \n",
            "  inflating: nomalware/img/KompoZerPortable_0.8_Beta_3_English.paf.exe.png  \n",
            "  inflating: nomalware/img/Notepad2-modPortable_4.2.25.998_English.paf.exe.png  \n",
            "  inflating: nomalware/img/Notepad2Portable_4.2.25_Rev_2_English.paf.exe.png  \n",
            "  inflating: nomalware/img/NotepadPlusPlusPortable_7.9.5.paf.exe.png  \n",
            "  inflating: nomalware/img/NSISPortable_3.06.1_English.paf.exe.png  \n",
            "  inflating: nomalware/img/On-ScreenKeyboardPortable_2.1.paf.exe.png  \n",
            "  inflating: nomalware/img/PortableApps.comInstaller_3.5.19.paf.exe.png  \n",
            "  inflating: nomalware/img/PortableApps.comLauncher_2.2.2.paf.exe.png  \n",
            "  inflating: nomalware/img/QEyePortable_6.5.0.6_English.paf.exe.png  \n",
            "  inflating: nomalware/img/SqlitemanPortable_1.2.2.paf.exe.png  \n",
            "  inflating: nomalware/img/SWI-PrologPortable_8.2.4-1_English.paf.exe.png  \n",
            "  inflating: nomalware/img/VirtualMagnifyingGlassPortable_3.6.paf.exe.png  \n",
            "  inflating: nomalware/img/XAMPP_1.7.paf.exe.png  \n"
          ],
          "name": "stdout"
        }
      ]
    },
    {
      "cell_type": "markdown",
      "metadata": {
        "id": "kM1waxA-y59m"
      },
      "source": [
        "# 新しいセクション"
      ]
    },
    {
      "cell_type": "code",
      "metadata": {
        "colab": {
          "base_uri": "https://localhost:8080/"
        },
        "id": "ePeUoIgBOJr2",
        "outputId": "ca4d9091-0b5e-4f2a-9782-110e457a8ebf"
      },
      "source": [
        "!pip install pyleargist"
      ],
      "execution_count": null,
      "outputs": [
        {
          "output_type": "stream",
          "text": [
            "Collecting pyleargist\n",
            "  Downloading https://files.pythonhosted.org/packages/f7/4a/2eef58a73c48aec6aca09254ef0f39148fd39b8dc7ec96d6b39d513b03eb/pyleargist-2.0.5.tar.gz\n",
            "\u001b[31mERROR: Command errored out with exit status 1: python setup.py egg_info Check the logs for full command output.\u001b[0m\n"
          ],
          "name": "stdout"
        }
      ]
    },
    {
      "cell_type": "code",
      "metadata": {
        "colab": {
          "base_uri": "https://localhost:8080/"
        },
        "id": "EhQBZNHFggjt",
        "outputId": "4367ea8c-9569-4da9-e25d-823acb05728b"
      },
      "source": [
        "!sudo apt-get install fftw3-dev\n",
        "!git clone https://github.com/mertyyanik/pyleargist-python3\n",
        "%cd pyleargist-python3\n",
        "!python setup.py build\n",
        "!sudo python setup.py install\n",
        "\n",
        "import lear_gist"
      ],
      "execution_count": null,
      "outputs": [
        {
          "output_type": "stream",
          "text": [
            "Reading package lists... Done\n",
            "Building dependency tree       \n",
            "Reading state information... Done\n",
            "Note, selecting 'libfftw3-dev' instead of 'fftw3-dev'\n",
            "libfftw3-dev is already the newest version (3.3.7-1).\n",
            "The following package was automatically installed and is no longer required:\n",
            "  libnvidia-common-460\n",
            "Use 'sudo apt autoremove' to remove it.\n",
            "0 upgraded, 0 newly installed, 0 to remove and 34 not upgraded.\n",
            "Cloning into 'pyleargist-python3'...\n",
            "remote: Enumerating objects: 37, done.\u001b[K\n",
            "remote: Counting objects: 100% (37/37), done.\u001b[K\n",
            "remote: Compressing objects: 100% (31/31), done.\u001b[K\n",
            "remote: Total 37 (delta 3), reused 3 (delta 1), pack-reused 0\u001b[K\n",
            "Unpacking objects: 100% (37/37), done.\n",
            "/content/pyleargist-python3\n",
            "running build\n",
            "running build_ext\n",
            "skipping 'src/leargist.c' Cython extension (up-to-date)\n",
            "building 'leargist' extension\n",
            "creating build\n",
            "creating build/temp.linux-x86_64-3.7\n",
            "creating build/temp.linux-x86_64-3.7/lear_gist\n",
            "creating build/temp.linux-x86_64-3.7/src\n",
            "x86_64-linux-gnu-gcc -pthread -Wno-unused-result -Wsign-compare -DNDEBUG -g -fwrapv -O2 -Wall -g -fdebug-prefix-map=/build/python3.7-a56wZI/python3.7-3.7.10=. -fstack-protector-strong -Wformat -Werror=format-security -g -fdebug-prefix-map=/build/python3.7-a56wZI/python3.7-3.7.10=. -fstack-protector-strong -Wformat -Werror=format-security -Wdate-time -D_FORTIFY_SOURCE=2 -fPIC -I/usr/local/lib/python3.7/dist-packages/numpy/core/include -Ilear_gist -I/usr/include/python3.7m -c lear_gist/standalone_image.c -o build/temp.linux-x86_64-3.7/lear_gist/standalone_image.o -DUSE_GIST -DSTANDALONE_GIST\n",
            "x86_64-linux-gnu-gcc -pthread -Wno-unused-result -Wsign-compare -DNDEBUG -g -fwrapv -O2 -Wall -g -fdebug-prefix-map=/build/python3.7-a56wZI/python3.7-3.7.10=. -fstack-protector-strong -Wformat -Werror=format-security -g -fdebug-prefix-map=/build/python3.7-a56wZI/python3.7-3.7.10=. -fstack-protector-strong -Wformat -Werror=format-security -Wdate-time -D_FORTIFY_SOURCE=2 -fPIC -I/usr/local/lib/python3.7/dist-packages/numpy/core/include -Ilear_gist -I/usr/include/python3.7m -c lear_gist/gist.c -o build/temp.linux-x86_64-3.7/lear_gist/gist.o -DUSE_GIST -DSTANDALONE_GIST\n",
            "x86_64-linux-gnu-gcc -pthread -Wno-unused-result -Wsign-compare -DNDEBUG -g -fwrapv -O2 -Wall -g -fdebug-prefix-map=/build/python3.7-a56wZI/python3.7-3.7.10=. -fstack-protector-strong -Wformat -Werror=format-security -g -fdebug-prefix-map=/build/python3.7-a56wZI/python3.7-3.7.10=. -fstack-protector-strong -Wformat -Werror=format-security -Wdate-time -D_FORTIFY_SOURCE=2 -fPIC -I/usr/local/lib/python3.7/dist-packages/numpy/core/include -Ilear_gist -I/usr/include/python3.7m -c src/leargist.c -o build/temp.linux-x86_64-3.7/src/leargist.o -DUSE_GIST -DSTANDALONE_GIST\n",
            "In file included from \u001b[01m\u001b[K/usr/local/lib/python3.7/dist-packages/numpy/core/include/numpy/ndarraytypes.h:1822:0\u001b[m\u001b[K,\n",
            "                 from \u001b[01m\u001b[K/usr/local/lib/python3.7/dist-packages/numpy/core/include/numpy/ndarrayobject.h:12\u001b[m\u001b[K,\n",
            "                 from \u001b[01m\u001b[K/usr/local/lib/python3.7/dist-packages/numpy/core/include/numpy/arrayobject.h:4\u001b[m\u001b[K,\n",
            "                 from \u001b[01m\u001b[Ksrc/leargist.c:572\u001b[m\u001b[K:\n",
            "\u001b[01m\u001b[K/usr/local/lib/python3.7/dist-packages/numpy/core/include/numpy/npy_1_7_deprecated_api.h:17:2:\u001b[m\u001b[K \u001b[01;35m\u001b[Kwarning: \u001b[m\u001b[K#warning \"Using deprecated NumPy API, disable it with \" \"#define NPY_NO_DEPRECATED_API NPY_1_7_API_VERSION\" [\u001b[01;35m\u001b[K-Wcpp\u001b[m\u001b[K]\n",
            " #\u001b[01;35m\u001b[Kwarning\u001b[m\u001b[K \"Using deprecated NumPy API, disable it with \" \\\n",
            "  \u001b[01;35m\u001b[K^~~~~~~\u001b[m\u001b[K\n",
            "creating build/lib.linux-x86_64-3.7\n",
            "x86_64-linux-gnu-gcc -pthread -shared -Wl,-O1 -Wl,-Bsymbolic-functions -Wl,-Bsymbolic-functions -Wl,-z,relro -Wl,-Bsymbolic-functions -Wl,-z,relro -g -fdebug-prefix-map=/build/python3.7-a56wZI/python3.7-3.7.10=. -fstack-protector-strong -Wformat -Werror=format-security -Wdate-time -D_FORTIFY_SOURCE=2 build/temp.linux-x86_64-3.7/lear_gist/standalone_image.o build/temp.linux-x86_64-3.7/lear_gist/gist.o build/temp.linux-x86_64-3.7/src/leargist.o -lm -lfftw3f -o build/lib.linux-x86_64-3.7/leargist.cpython-37m-x86_64-linux-gnu.so\n",
            "running install\n",
            "running bdist_egg\n",
            "running egg_info\n",
            "writing src/pyleargist.egg-info/PKG-INFO\n",
            "writing dependency_links to src/pyleargist.egg-info/dependency_links.txt\n",
            "writing top-level names to src/pyleargist.egg-info/top_level.txt\n",
            "adding license file 'COPYING.txt' (matched pattern 'COPYING*')\n",
            "reading manifest template 'MANIFEST.in'\n",
            "writing manifest file 'src/pyleargist.egg-info/SOURCES.txt'\n",
            "installing library code to build/bdist.linux-x86_64/egg\n",
            "running install_lib\n",
            "running build_ext\n",
            "skipping 'src/leargist.c' Cython extension (up-to-date)\n",
            "creating build/bdist.linux-x86_64\n",
            "creating build/bdist.linux-x86_64/egg\n",
            "copying build/lib.linux-x86_64-3.7/leargist.cpython-37m-x86_64-linux-gnu.so -> build/bdist.linux-x86_64/egg\n",
            "creating stub loader for leargist.cpython-37m-x86_64-linux-gnu.so\n",
            "byte-compiling build/bdist.linux-x86_64/egg/leargist.py to leargist.cpython-37.pyc\n",
            "creating build/bdist.linux-x86_64/egg/EGG-INFO\n",
            "copying src/pyleargist.egg-info/PKG-INFO -> build/bdist.linux-x86_64/egg/EGG-INFO\n",
            "copying src/pyleargist.egg-info/SOURCES.txt -> build/bdist.linux-x86_64/egg/EGG-INFO\n",
            "copying src/pyleargist.egg-info/dependency_links.txt -> build/bdist.linux-x86_64/egg/EGG-INFO\n",
            "copying src/pyleargist.egg-info/top_level.txt -> build/bdist.linux-x86_64/egg/EGG-INFO\n",
            "writing build/bdist.linux-x86_64/egg/EGG-INFO/native_libs.txt\n",
            "zip_safe flag not set; analyzing archive contents...\n",
            "__pycache__.leargist.cpython-37: module references __file__\n",
            "creating dist\n",
            "creating 'dist/pyleargist-2.0.5-py3.7-linux-x86_64.egg' and adding 'build/bdist.linux-x86_64/egg' to it\n",
            "removing 'build/bdist.linux-x86_64/egg' (and everything under it)\n",
            "Processing pyleargist-2.0.5-py3.7-linux-x86_64.egg\n",
            "creating /usr/local/lib/python3.7/dist-packages/pyleargist-2.0.5-py3.7-linux-x86_64.egg\n",
            "Extracting pyleargist-2.0.5-py3.7-linux-x86_64.egg to /usr/local/lib/python3.7/dist-packages\n",
            "Adding pyleargist 2.0.5 to easy-install.pth file\n",
            "\n",
            "Installed /usr/local/lib/python3.7/dist-packages/pyleargist-2.0.5-py3.7-linux-x86_64.egg\n",
            "Processing dependencies for pyleargist==2.0.5\n",
            "Finished processing dependencies for pyleargist==2.0.5\n"
          ],
          "name": "stdout"
        }
      ]
    },
    {
      "cell_type": "code",
      "metadata": {
        "id": "kbkyOY4lhnCk"
      },
      "source": [
        "%rm '/content/dataset/nomalware/img/DSpeechPortable_1.73.339.paf(1).exe.png'"
      ],
      "execution_count": null,
      "outputs": []
    },
    {
      "cell_type": "code",
      "metadata": {
        "colab": {
          "base_uri": "https://localhost:8080/",
          "height": 367
        },
        "id": "klSHWzgoIfXT",
        "outputId": "1b8d72d9-950a-4aa6-bc31-901e384feccf"
      },
      "source": [
        "from PIL import Image\n",
        "import leargist\n",
        "import numpy as np\n",
        "from skimage import transform\n",
        "\n",
        "%cd /content/\n",
        "\n",
        "for name in ['malware', 'nomalware']:\n",
        "  name = \"nomalware\"\n",
        "  !mkdir /content/dataset/{name}/out/\n",
        "  filenames = !ls dataset/{name}/img/\n",
        "\n",
        "  for filename in filenames:\n",
        "    filename = filename.replace(' ', '')\n",
        "    \n",
        "    print(filename)\n",
        "\n",
        "    in_filename = f'dataset/{name}/img/{filename}'\n",
        "\n",
        "    pilimg = Image.open(in_filename)\n",
        "    pilimg = pilimg.convert(\"RGB\")\n",
        "\n",
        "    img = np.asarray(pilimg)\n",
        "    img_resized = transform.resize(img, (64, 64), preserve_range=True).astype(np.uint8)\n",
        "\n",
        "    desc = leargist.color_gist(img_resized);\n",
        "    vec = desc[0:320];\n",
        "\n",
        "    np.save(f'dataset/{name}/out/{filename}', vec)\n",
        "  \n",
        "!zip -r /content/malware-out.zip /content/dataset/malware/out/\n",
        "!zip -r /content/nomalware-out.zip /content/dataset/nomalware/out/\n",
        "\n",
        "from google.colab import files\n",
        "files.download(\"/content/malware-out.zip\")\n",
        "files.download(\"/content/nomalware-out.zip\")\n"
      ],
      "execution_count": 2,
      "outputs": [
        {
          "output_type": "error",
          "ename": "ModuleNotFoundError",
          "evalue": "ignored",
          "traceback": [
            "\u001b[0;31m---------------------------------------------------------------------------\u001b[0m",
            "\u001b[0;31mModuleNotFoundError\u001b[0m                       Traceback (most recent call last)",
            "\u001b[0;32m<ipython-input-2-e43a224f4d39>\u001b[0m in \u001b[0;36m<module>\u001b[0;34m()\u001b[0m\n\u001b[1;32m      1\u001b[0m \u001b[0;32mfrom\u001b[0m \u001b[0mPIL\u001b[0m \u001b[0;32mimport\u001b[0m \u001b[0mImage\u001b[0m\u001b[0;34m\u001b[0m\u001b[0;34m\u001b[0m\u001b[0m\n\u001b[0;32m----> 2\u001b[0;31m \u001b[0;32mimport\u001b[0m \u001b[0mleargist\u001b[0m\u001b[0;34m\u001b[0m\u001b[0;34m\u001b[0m\u001b[0m\n\u001b[0m\u001b[1;32m      3\u001b[0m \u001b[0;32mimport\u001b[0m \u001b[0mnumpy\u001b[0m \u001b[0;32mas\u001b[0m \u001b[0mnp\u001b[0m\u001b[0;34m\u001b[0m\u001b[0;34m\u001b[0m\u001b[0m\n\u001b[1;32m      4\u001b[0m \u001b[0;32mfrom\u001b[0m \u001b[0mskimage\u001b[0m \u001b[0;32mimport\u001b[0m \u001b[0mtransform\u001b[0m\u001b[0;34m\u001b[0m\u001b[0;34m\u001b[0m\u001b[0m\n\u001b[1;32m      5\u001b[0m \u001b[0;34m\u001b[0m\u001b[0m\n",
            "\u001b[0;31mModuleNotFoundError\u001b[0m: No module named 'leargist'",
            "",
            "\u001b[0;31m---------------------------------------------------------------------------\u001b[0;32m\nNOTE: If your import is failing due to a missing package, you can\nmanually install dependencies using either !pip or !apt.\n\nTo view examples of installing some common dependencies, click the\n\"Open Examples\" button below.\n\u001b[0;31m---------------------------------------------------------------------------\u001b[0m\n"
          ]
        }
      ]
    },
    {
      "cell_type": "code",
      "metadata": {
        "colab": {
          "base_uri": "https://localhost:8080/"
        },
        "id": "FAnIpmnezJsJ",
        "outputId": "3ec93533-b9ed-4e5c-9047-89b03ffd9f4a"
      },
      "source": [
        "pip install pyleargist=.0.1"
      ],
      "execution_count": null,
      "outputs": [
        {
          "output_type": "stream",
          "text": [
            "\u001b[31mERROR: Invalid requirement: 'pyleargist=.0.1'\n",
            "Hint: = is not a valid operator. Did you mean == ?\u001b[0m\n"
          ],
          "name": "stdout"
        }
      ]
    },
    {
      "cell_type": "code",
      "metadata": {
        "colab": {
          "base_uri": "https://localhost:8080/"
        },
        "id": "9fMfks4uft62",
        "outputId": "f0e95736-78bc-4d8b-d2e8-b7616123c95f"
      },
      "source": [
        "\"\"\"Donwload datasets\"\"\"\n",
        "\n",
        "PASSWORD1 = \"g9Z5zsQk-malware.zip\"\n",
        "PASSWORD2 = \"g9Z5zsQk-nomalware.zip\"\n",
        "!wget https://web.sfc.wide.ad.jp/~akakou/{PASSWORD1}\n",
        "!wget https://web.sfc.wide.ad.jp/~akakou/{PASSWORD2}\n",
        "\n",
        "!unzip {PASSWORD1} -d malware\n",
        "!unzip {PASSWORD2} -d nomalware\n"
      ],
      "execution_count": 1,
      "outputs": [
        {
          "output_type": "stream",
          "text": [
            "--2021-04-24 13:16:06--  https://web.sfc.wide.ad.jp/~akakou/g9Z5zsQk-malware.zip\n",
            "Resolving web.sfc.wide.ad.jp (web.sfc.wide.ad.jp)... 203.178.142.140, 2001:200:0:8803:203:178:142:140\n",
            "Connecting to web.sfc.wide.ad.jp (web.sfc.wide.ad.jp)|203.178.142.140|:443... connected.\n",
            "HTTP request sent, awaiting response... 200 OK\n",
            "Length: 51358 (50K) [application/zip]\n",
            "Saving to: ‘g9Z5zsQk-malware.zip’\n",
            "\n",
            "g9Z5zsQk-malware.zi 100%[===================>]  50.15K   264KB/s    in 0.2s    \n",
            "\n",
            "2021-04-24 13:16:07 (264 KB/s) - ‘g9Z5zsQk-malware.zip’ saved [51358/51358]\n",
            "\n",
            "--2021-04-24 13:16:07--  https://web.sfc.wide.ad.jp/~akakou/g9Z5zsQk-nomalware.zip\n",
            "Resolving web.sfc.wide.ad.jp (web.sfc.wide.ad.jp)... 203.178.142.140, 2001:200:0:8803:203:178:142:140\n",
            "Connecting to web.sfc.wide.ad.jp (web.sfc.wide.ad.jp)|203.178.142.140|:443... connected.\n",
            "HTTP request sent, awaiting response... 200 OK\n",
            "Length: 43773 (43K) [application/zip]\n",
            "Saving to: ‘g9Z5zsQk-nomalware.zip’\n",
            "\n",
            "g9Z5zsQk-nomalware. 100%[===================>]  42.75K  --.-KB/s    in 0.1s    \n",
            "\n",
            "2021-04-24 13:16:08 (326 KB/s) - ‘g9Z5zsQk-nomalware.zip’ saved [43773/43773]\n",
            "\n",
            "Archive:  g9Z5zsQk-malware.zip\n",
            "   creating: malware/out/\n",
            "  inflating: malware/out/042889c7d19b1c7aec30d171c1e147953907146ff5eb81e3bfc29ca83e962658.png.npy  \n",
            "  inflating: malware/out/067d47afd3eea043d2c91c986300fb1128e652e5799fe2debf0a821430f067da.png.npy  \n",
            "  inflating: malware/out/156e4ef19a0646861d315a8e26235a4bfc4ece5065bb0dcd1f2b54a231893360.png.npy  \n",
            "  inflating: malware/out/18077f3d879632bf5bb9111ff1164adb7d359d915d90eff11f2ab286f89d0b01.png.npy  \n",
            "  inflating: malware/out/1809776b281b6d291542e5671f9ca263466d84e4cad6b310a9bb45a393621d59.png.npy  \n",
            "  inflating: malware/out/5222f88067bf868eba945523e736e282651263ffc9fad1a4ad85286d5a30c665.png.npy  \n",
            "  inflating: malware/out/52247f2d0289c99c232efc0ae64b867233517443f0749b395745aab8631a3a89.png.npy  \n",
            "  inflating: malware/out/55b4fedc285147db63cc351b2bfb8beba2538afbb9593ac44a2ff74b79181b2c.png.npy  \n",
            "  inflating: malware/out/55bb6701ab7ed3b9c5989e1aec18ed172604482fde8dc9c6bfa4761e1e0505fc.png.npy  \n",
            "  inflating: malware/out/55bf1986ee5b91462cb8136dce980448cfd923574424d925e4b6fa7df74605d4.png.npy  \n",
            "  inflating: malware/out/57b04e5d1f6953eecf8378a7d3306460bcfcfe83f185ff22e8a8596b27b368b8.png.npy  \n",
            "  inflating: malware/out/57b3eb441d1152d847d1b9e5ce81ea56eb4a7c8666c91eceab92593ab862601b.png.npy  \n",
            "  inflating: malware/out/57bbdac9b814d93aecbb92ebcbc654f1230687d8df473db5d08266b3e5cc0c52.png.npy  \n",
            "  inflating: malware/out/57bf2fbb8e42993d96f0e00f1d0140713a6676156ad83ad81e983099123f776e.png.npy  \n",
            "  inflating: malware/out/57bffafee18c136558e4a51ebe2d05e8b0d70f776042f8de4a0bff80093c4f1a.png.npy  \n",
            "  inflating: malware/out/65a466fa40165ad2fae58b18453da51aed334275bb8805351664ca6f017420ad.png.npy  \n",
            "  inflating: malware/out/94b2447a6b2408a9a32d4129ea7828a293667825b09ce61d11dd03d5abd33833.png.npy  \n",
            "  inflating: malware/out/94b92670036987276c51d77e329e549947e1807e087bdaa5ae32835acd479962.png.npy  \n",
            "  inflating: malware/out/a1b718c9a0524e0ea7f5f0fd499aeb9799ff53ad5b0bde6a6a7b017febb08d10.png.npy  \n",
            "  inflating: malware/out/a1b885b51272d2c58ccf68979a34f5f09533a17f8d4f4a00c48258fa433829bd.png.npy  \n",
            "  inflating: malware/out/a1be321e8deb8ef6eb3e326b1ef9d7dfc1cfe7e86bbcf9f5e2573c1b77f858cc.png.npy  \n",
            "  inflating: malware/out/aa5324e2e622ca358621e18536306e7c41f464a52da46f388cee32e2ac20e6e6.png.npy  \n",
            "  inflating: malware/out/aa5b5b4d65def403060fbe4fb112f3a6c87786ddcf11cee3b7f167765e885d15.png.npy  \n",
            "  inflating: malware/out/ac2736be4501b8c6823ebcf7241ceda38c3071418fb43c08b30f54f1a45d07e0.png.npy  \n",
            "  inflating: malware/out/b2805cf824a1184e8b98ea391342917a5ada317c7ef75e57d6855a4bd9a7f0fe.png.npy  \n",
            "  inflating: malware/out/b280aeb0424e25d7f931b41704c2f2c9e577153211ce6eded4da910b542e4623.png.npy  \n",
            "  inflating: malware/out/b28ba2f9df7c946dce97946f8fcca54ba0d9faa79e54ca9a0badc0f9964dbb06.png.npy  \n",
            "  inflating: malware/out/c19b5cd5db00309439b6639cc4a65cb2bb0a00295f837d370ab34c9f2528dc87.png.npy  \n",
            "  inflating: malware/out/f6368e760e5a4e042c9eafdd10ead87832b7a6230d357c3eb948e281c18aa33d.png.npy  \n",
            "  inflating: malware/out/f63e6224253ebc5789015d9069783307bbbb2dda8a6d1e9238b4a00722e4bcc1.png.npy  \n",
            "  inflating: malware/out/f63eb4858e66889e8b62e6e72fe5d5620995c3fccaa8cd23043c22ddb3c6aa02.png.npy  \n",
            "  inflating: malware/out/fd3800ebec9ff91ab48a94a10f1c95845b4657b6a3eb3fd6dd25bd8c39905345.png.npy  \n",
            "Archive:  g9Z5zsQk-nomalware.zip\n",
            "   creating: nomalware/out/\n",
            "  inflating: nomalware/out/AkelPadPortable_4.9.8.paf.exe.png.npy  \n",
            "  inflating: nomalware/out/ArthaPortable_1.0.3_English.paf.exe.png.npy  \n",
            "  inflating: nomalware/out/GrampsPortable_5.1.3.paf.exe.png.npy  \n",
            "  inflating: nomalware/out/BalabolkaPortable_2.15.0.780.paf.exe.png.npy  \n",
            "  inflating: nomalware/out/BPBiblePortable_0.5.3.1.paf.exe.png.npy  \n",
            "  inflating: nomalware/out/CelestiaPortable_1.6.2.2.paf.exe.png.npy  \n",
            "  inflating: nomalware/out/CppcheckPortable_2.4.1.paf.exe.png.npy  \n",
            "  inflating: nomalware/out/DicomPortable_1.1.1.paf.exe.png.npy  \n",
            "  inflating: nomalware/out/DSpeechPortable_1.73.339.paf.exe.png.npy  \n",
            "  inflating: nomalware/out/FreeMatPortable_4.2_English.paf.exe.png.npy  \n",
            "  inflating: nomalware/out/FrhedPortable_1.6.0_Rev_3.paf.exe.png.npy  \n",
            "  inflating: nomalware/out/GeanyPortable_1.37.1.paf.exe.png.npy  \n",
            "  inflating: nomalware/out/GoldenDictPortable_1.0.1_Rev_2.paf.exe.png.npy  \n",
            "  inflating: nomalware/out/gVimPortable_8.2.paf.exe.png.npy  \n",
            "  inflating: nomalware/out/HMNISEditPortable_2.0.3_Rev_2.paf.exe.png.npy  \n",
            "  inflating: nomalware/out/IniTranslatorPortable_1.9.0.52_Rev_2.paf.exe.png.npy  \n",
            "  inflating: nomalware/out/KompoZerPortable_0.8_Beta_3_English.paf.exe.png.npy  \n",
            "  inflating: nomalware/out/Notepad2-modPortable_4.2.25.998_English.paf.exe.png.npy  \n",
            "  inflating: nomalware/out/Notepad2Portable_4.2.25_Rev_2_English.paf.exe.png.npy  \n",
            "  inflating: nomalware/out/NotepadPlusPlusPortable_7.9.5.paf.exe.png.npy  \n",
            "  inflating: nomalware/out/NSISPortable_3.06.1_English.paf.exe.png.npy  \n",
            "  inflating: nomalware/out/On-ScreenKeyboardPortable_2.1.paf.exe.png.npy  \n",
            "  inflating: nomalware/out/PortableApps.comInstaller_3.5.19.paf.exe.png.npy  \n",
            "  inflating: nomalware/out/PortableApps.comLauncher_2.2.2.paf.exe.png.npy  \n",
            "  inflating: nomalware/out/QEyePortable_6.5.0.6_English.paf.exe.png.npy  \n",
            "  inflating: nomalware/out/SqlitemanPortable_1.2.2.paf.exe.png.npy  \n",
            "  inflating: nomalware/out/SWI-PrologPortable_8.2.4-1_English.paf.exe.png.npy  \n",
            "  inflating: nomalware/out/VirtualMagnifyingGlassPortable_3.6.paf.exe.png.npy  \n",
            "  inflating: nomalware/out/XAMPP_1.7.paf.exe.png.npy  \n"
          ],
          "name": "stdout"
        }
      ]
    },
    {
      "cell_type": "code",
      "metadata": {
        "id": "QalgLndMe6uL"
      },
      "source": [
        "! rm -rf *"
      ],
      "execution_count": null,
      "outputs": []
    },
    {
      "cell_type": "code",
      "metadata": {
        "id": "z3uRywCJZTm6"
      },
      "source": [
        "from tensorflow.keras.models import Sequential\n",
        "from tensorflow.keras.layers import Dense, Dropout, Flatten, ReLU, Reshape, Activation\n",
        "from tensorflow.keras.layers import Conv2D, MaxPooling2D\n",
        "\n",
        "def Model():\n",
        "  model = Sequential()\n",
        "  model.add(Conv2D(32, kernel_size=(3,3), activation='linear', batch_input_shape=(1,32,32,1),padding='same'))\n",
        "  model.add(Activation('linear'))\n",
        "  model.add(MaxPooling2D(pool_size=(2, 2),padding='same'))\n",
        "  model.add(Conv2D(64, (3, 3), activation='linear',padding='same'))\n",
        "  model.add(Conv2D(64, (3, 3), activation='linear',padding='same'))\n",
        "  \n",
        "  model.add(Flatten())\n",
        "  model.add(Dense(1024, activation='linear'))\n",
        "  model.add(Activation('linear'))\n",
        "  model.add(Dense(num_classes, activation='linear'))\n",
        "\n",
        "  model.compile(loss='categorical_crossentropy', optimizer='adam',metrics=['accuracy'])\n",
        "\n",
        "  return model\n",
        "  "
      ],
      "execution_count": 1,
      "outputs": []
    },
    {
      "cell_type": "code",
      "metadata": {
        "id": "A1Oo7qU1al57"
      },
      "source": [
        "import numpy\n",
        "from tensorflow.keras.utils import to_categorical\n",
        "from sklearn.model_selection import train_test_split\n",
        "\n",
        "\n",
        "X = []\n",
        "Y = []\n",
        "num_classes = 25\n",
        "\n",
        "labels = ['nomalware', 'malware']\n",
        "\n",
        "#num_classes is how many class you in your data\n",
        "for index, name in enumerate(labels):\n",
        "  data_files = !ls /content/{name}/out/\n",
        "\n",
        "  for data_file in data_files:\n",
        "    data_file = data_file.replace(' ', '')\n",
        "    data_path = f'{name}/out/{data_file}'\n",
        "    data = numpy.load(data_path)\n",
        "\n",
        "    data.resize(1024)\n",
        "\n",
        "    X.append(data)\n",
        "    Y.append(index)\n",
        "\n",
        "train_X, test_X, train_Y, test_Y = train_test_split(X, Y, test_size=0.1)\n",
        "\n",
        "train_X = numpy.array(train_X)\n",
        "train_X = train_X.reshape(-1, 32,32, 1)\n",
        "\n",
        "train_Y = numpy.array(train_Y)\n",
        "train_Y = to_categorical(train_Y, num_classes)"
      ],
      "execution_count": 3,
      "outputs": []
    },
    {
      "cell_type": "code",
      "metadata": {
        "colab": {
          "base_uri": "https://localhost:8080/"
        },
        "id": "TLbOYRK6eRpM",
        "outputId": "0f3cd649-d30a-4f30-9a8e-8c77a9912e1d"
      },
      "source": [
        "import tensorflow.keras\n",
        "\n",
        "batch_size = 64\n",
        "epochs = 20\n",
        "\n",
        "\n",
        "model = Model()\n",
        "model.summary()\n",
        "\n",
        "\n",
        "# print(test_X.shape)\n",
        "\n",
        "model.fit(train_X, train_Y, epochs=epochs, verbose=1)\n",
        "\n",
        "test_X_for_evaluate = numpy.array(test_X)\n",
        "test_X_for_evaluate = test_X_for_evaluate.reshape(-1, 32,32, 1)\n",
        "test_Y_for_evaluate = numpy.array(test_Y)\n",
        "test_Y_for_evaluate = to_categorical(test_Y_for_evaluate, num_classes)\n",
        "\n",
        "pre_trained_weights = 'antivirus.h5'\n",
        "\n",
        "model.save(pre_trained_weights)\n",
        "\n",
        "model = Model()\n",
        "model.load_weights(pre_trained_weights)\n",
        "\n",
        "\n",
        "test_loss, test_acc = model.evaluate(test_X_for_evaluate, test_Y_for_evaluate, verbose=0)\n",
        "\n",
        "print(\"loss: \", test_loss)\n",
        "print(\"acc: \", test_acc)\n",
        "\n",
        "for x, y in zip(test_X, test_Y):\n",
        "  x = x.reshape(32,32, 1)\n",
        "\n",
        "  result = model.predict(numpy.array([x]))\n",
        "  print(\"label:\", y)\n",
        "  print(\"result1:\", numpy.argmax(result))\n",
        "  print(\"result2:\", numpy.mean(result))\n",
        "  print(\"result3:\", numpy.median(result))\n",
        "\n",
        "# model.evaluate(test_X, test_Y_one_hot, verbose=0)\n",
        "# print('The accuracy of the Test is:', test_eval[1])\n",
        "\n"
      ],
      "execution_count": 4,
      "outputs": [
        {
          "output_type": "stream",
          "text": [
            "Model: \"sequential_2\"\n",
            "_________________________________________________________________\n",
            "Layer (type)                 Output Shape              Param #   \n",
            "=================================================================\n",
            "conv2d_6 (Conv2D)            (1, 32, 32, 32)           320       \n",
            "_________________________________________________________________\n",
            "activation_4 (Activation)    (1, 32, 32, 32)           0         \n",
            "_________________________________________________________________\n",
            "max_pooling2d_2 (MaxPooling2 (1, 16, 16, 32)           0         \n",
            "_________________________________________________________________\n",
            "conv2d_7 (Conv2D)            (1, 16, 16, 64)           18496     \n",
            "_________________________________________________________________\n",
            "conv2d_8 (Conv2D)            (1, 16, 16, 64)           36928     \n",
            "_________________________________________________________________\n",
            "flatten_2 (Flatten)          (1, 16384)                0         \n",
            "_________________________________________________________________\n",
            "dense_4 (Dense)              (1, 1024)                 16778240  \n",
            "_________________________________________________________________\n",
            "activation_5 (Activation)    (1, 1024)                 0         \n",
            "_________________________________________________________________\n",
            "dense_5 (Dense)              (1, 25)                   25625     \n",
            "=================================================================\n",
            "Total params: 16,859,609\n",
            "Trainable params: 16,859,609\n",
            "Non-trainable params: 0\n",
            "_________________________________________________________________\n",
            "Train on 54 samples\n",
            "Epoch 1/20\n",
            "54/54 [==============================] - 6s 104ms/sample - loss: 12.3692 - acc: 0.4444\n",
            "Epoch 2/20\n",
            "54/54 [==============================] - 5s 100ms/sample - loss: 10.4585 - acc: 0.4815\n",
            "Epoch 3/20\n",
            "54/54 [==============================] - 5s 100ms/sample - loss: 10.1615 - acc: 0.4815\n",
            "Epoch 4/20\n",
            "54/54 [==============================] - 5s 100ms/sample - loss: 13.7302 - acc: 0.4815\n",
            "Epoch 5/20\n",
            "54/54 [==============================] - 5s 99ms/sample - loss: 14.0287 - acc: 0.4815\n",
            "Epoch 6/20\n",
            "54/54 [==============================] - 5s 99ms/sample - loss: 14.0287 - acc: 0.4815\n",
            "Epoch 7/20\n",
            "54/54 [==============================] - 5s 97ms/sample - loss: 14.0287 - acc: 0.4815\n",
            "Epoch 8/20\n",
            "54/54 [==============================] - 5s 98ms/sample - loss: 14.0287 - acc: 0.4815\n",
            "Epoch 9/20\n",
            "54/54 [==============================] - 5s 97ms/sample - loss: 14.0287 - acc: 0.4815\n",
            "Epoch 10/20\n",
            "54/54 [==============================] - 5s 101ms/sample - loss: 14.0287 - acc: 0.4815\n",
            "Epoch 11/20\n",
            "54/54 [==============================] - 5s 98ms/sample - loss: 14.0287 - acc: 0.4815\n",
            "Epoch 12/20\n",
            "54/54 [==============================] - 5s 100ms/sample - loss: 14.0287 - acc: 0.4815\n",
            "Epoch 13/20\n",
            "54/54 [==============================] - 5s 101ms/sample - loss: 14.0287 - acc: 0.4815\n",
            "Epoch 14/20\n",
            "54/54 [==============================] - 5s 102ms/sample - loss: 14.0287 - acc: 0.4815\n",
            "Epoch 15/20\n",
            "54/54 [==============================] - 5s 99ms/sample - loss: 14.0287 - acc: 0.4815\n",
            "Epoch 16/20\n",
            "54/54 [==============================] - 5s 99ms/sample - loss: 14.0287 - acc: 0.4815\n",
            "Epoch 17/20\n",
            "54/54 [==============================] - 5s 101ms/sample - loss: 14.0287 - acc: 0.4815\n",
            "Epoch 18/20\n",
            "54/54 [==============================] - 5s 100ms/sample - loss: 14.0287 - acc: 0.4815\n",
            "Epoch 19/20\n",
            "54/54 [==============================] - 5s 97ms/sample - loss: 14.0287 - acc: 0.4815\n",
            "Epoch 20/20\n",
            "54/54 [==============================] - 5s 99ms/sample - loss: 14.0287 - acc: 0.4815\n",
            "loss:  16.11809539794922\n",
            "acc:  0.42857143\n",
            "label: 0\n",
            "result1: 0\n",
            "result2: -0.32729068\n",
            "result3: -0.68803555\n",
            "label: 1\n",
            "result1: 0\n",
            "result2: 0.69292593\n",
            "result3: 0.5806342\n",
            "label: 1\n",
            "result1: 0\n",
            "result2: 0.06012469\n",
            "result3: -0.2960358\n",
            "label: 0\n",
            "result1: 0\n",
            "result2: -0.6849054\n",
            "result3: -1.2734247\n",
            "label: 1\n",
            "result1: 0\n",
            "result2: 0.03669774\n",
            "result3: -0.261978\n",
            "label: 1\n",
            "result1: 0\n",
            "result2: 0.37845817\n",
            "result3: 0.04187037\n",
            "label: 0\n",
            "result1: 0\n",
            "result2: -0.55032176\n",
            "result3: -1.0576081\n"
          ],
          "name": "stdout"
        }
      ]
    },
    {
      "cell_type": "markdown",
      "metadata": {
        "id": "XU8_fzl9FEiQ"
      },
      "source": [
        ""
      ]
    },
    {
      "cell_type": "code",
      "metadata": {
        "id": "kdosB6WFhonj",
        "colab": {
          "base_uri": "https://localhost:8080/",
          "height": 1000
        },
        "outputId": "49c1c6a2-9717-49be-d64b-ac641b6f850c"
      },
      "source": [
        "!zip -r /content/malware.zip /content/dataset/malware/out/\n",
        "!zip -r /content/nomalware.zip /content/dataset/nomalware/out/\n",
        "\n",
        "from google.colab import files\n",
        "files.download(\"/content/malware.zip\")\n",
        "files.download(\"/content/nomalware.zip\")"
      ],
      "execution_count": null,
      "outputs": [
        {
          "output_type": "stream",
          "text": [
            "updating: content/dataset/malware/out/ (stored 0%)\n",
            "updating: content/dataset/malware/out/55b4fedc285147db63cc351b2bfb8beba2538afbb9593ac44a2ff74b79181b2c.png.npy (deflated 8%)\n",
            "updating: content/dataset/malware/out/fd3800ebec9ff91ab48a94a10f1c95845b4657b6a3eb3fd6dd25bd8c39905345.png.npy (deflated 9%)\n",
            "updating: content/dataset/malware/out/042889c7d19b1c7aec30d171c1e147953907146ff5eb81e3bfc29ca83e962658.png.npy (deflated 8%)\n",
            "updating: content/dataset/malware/out/b2805cf824a1184e8b98ea391342917a5ada317c7ef75e57d6855a4bd9a7f0fe.png.npy (deflated 8%)\n",
            "updating: content/dataset/malware/out/94b92670036987276c51d77e329e549947e1807e087bdaa5ae32835acd479962.png.npy (deflated 8%)\n",
            "updating: content/dataset/malware/out/b280aeb0424e25d7f931b41704c2f2c9e577153211ce6eded4da910b542e4623.png.npy (deflated 9%)\n",
            "updating: content/dataset/malware/out/b28ba2f9df7c946dce97946f8fcca54ba0d9faa79e54ca9a0badc0f9964dbb06.png.npy (deflated 9%)\n",
            "updating: content/dataset/malware/out/a1b885b51272d2c58ccf68979a34f5f09533a17f8d4f4a00c48258fa433829bd.png.npy (deflated 8%)\n",
            "updating: content/dataset/malware/out/a1b718c9a0524e0ea7f5f0fd499aeb9799ff53ad5b0bde6a6a7b017febb08d10.png.npy (deflated 8%)\n",
            "updating: content/dataset/malware/out/156e4ef19a0646861d315a8e26235a4bfc4ece5065bb0dcd1f2b54a231893360.png.npy (deflated 8%)\n",
            "updating: content/dataset/malware/out/f6368e760e5a4e042c9eafdd10ead87832b7a6230d357c3eb948e281c18aa33d.png.npy (deflated 10%)\n",
            "updating: content/dataset/malware/out/067d47afd3eea043d2c91c986300fb1128e652e5799fe2debf0a821430f067da.png.npy (deflated 8%)\n",
            "updating: content/dataset/malware/out/aa5324e2e622ca358621e18536306e7c41f464a52da46f388cee32e2ac20e6e6.png.npy (deflated 9%)\n",
            "updating: content/dataset/malware/out/55bf1986ee5b91462cb8136dce980448cfd923574424d925e4b6fa7df74605d4.png.npy (deflated 8%)\n",
            "updating: content/dataset/malware/out/18077f3d879632bf5bb9111ff1164adb7d359d915d90eff11f2ab286f89d0b01.png.npy (deflated 9%)\n",
            "updating: content/dataset/malware/out/65a466fa40165ad2fae58b18453da51aed334275bb8805351664ca6f017420ad.png.npy (deflated 7%)\n",
            "updating: content/dataset/malware/out/1809776b281b6d291542e5671f9ca263466d84e4cad6b310a9bb45a393621d59.png.npy (deflated 8%)\n",
            "updating: content/dataset/malware/out/aa5b5b4d65def403060fbe4fb112f3a6c87786ddcf11cee3b7f167765e885d15.png.npy (deflated 9%)\n",
            "updating: content/dataset/malware/out/c19b5cd5db00309439b6639cc4a65cb2bb0a00295f837d370ab34c9f2528dc87.png.npy (deflated 8%)\n",
            "updating: content/dataset/malware/out/52247f2d0289c99c232efc0ae64b867233517443f0749b395745aab8631a3a89.png.npy (deflated 9%)\n",
            "updating: content/dataset/malware/out/57bffafee18c136558e4a51ebe2d05e8b0d70f776042f8de4a0bff80093c4f1a.png.npy (deflated 8%)\n",
            "updating: content/dataset/malware/out/ac2736be4501b8c6823ebcf7241ceda38c3071418fb43c08b30f54f1a45d07e0.png.npy (deflated 10%)\n",
            "updating: content/dataset/malware/out/57bf2fbb8e42993d96f0e00f1d0140713a6676156ad83ad81e983099123f776e.png.npy (deflated 10%)\n",
            "updating: content/dataset/malware/out/57b04e5d1f6953eecf8378a7d3306460bcfcfe83f185ff22e8a8596b27b368b8.png.npy (deflated 9%)\n",
            "updating: content/dataset/malware/out/5222f88067bf868eba945523e736e282651263ffc9fad1a4ad85286d5a30c665.png.npy (deflated 7%)\n",
            "updating: content/dataset/malware/out/57b3eb441d1152d847d1b9e5ce81ea56eb4a7c8666c91eceab92593ab862601b.png.npy (deflated 8%)\n",
            "updating: content/dataset/malware/out/94b2447a6b2408a9a32d4129ea7828a293667825b09ce61d11dd03d5abd33833.png.npy (deflated 9%)\n",
            "updating: content/dataset/malware/out/f63eb4858e66889e8b62e6e72fe5d5620995c3fccaa8cd23043c22ddb3c6aa02.png.npy (deflated 8%)\n",
            "updating: content/dataset/malware/out/f63e6224253ebc5789015d9069783307bbbb2dda8a6d1e9238b4a00722e4bcc1.png.npy (deflated 8%)\n",
            "updating: content/dataset/malware/out/a1be321e8deb8ef6eb3e326b1ef9d7dfc1cfe7e86bbcf9f5e2573c1b77f858cc.png.npy (deflated 7%)\n",
            "updating: content/dataset/malware/out/57bbdac9b814d93aecbb92ebcbc654f1230687d8df473db5d08266b3e5cc0c52.png.npy (deflated 7%)\n",
            "updating: content/dataset/malware/out/55bb6701ab7ed3b9c5989e1aec18ed172604482fde8dc9c6bfa4761e1e0505fc.png.npy (deflated 8%)\n",
            "updating: content/dataset/nomalware/out/ (stored 0%)\n",
            "updating: content/dataset/nomalware/out/On-ScreenKeyboardPortable_2.1.paf.exe.png.npy (deflated 11%)\n",
            "updating: content/dataset/nomalware/out/SqlitemanPortable_1.2.2.paf.exe.png.npy (deflated 11%)\n",
            "updating: content/dataset/nomalware/out/DicomPortable_1.1.1.paf.exe.png.npy (deflated 11%)\n",
            "updating: content/dataset/nomalware/out/PortableApps.comLauncher_2.2.2.paf.exe.png.npy (deflated 10%)\n",
            "updating: content/dataset/nomalware/out/QEyePortable_6.5.0.6_English.paf.exe.png.npy (deflated 12%)\n",
            "updating: content/dataset/nomalware/out/Notepad2Portable_4.2.25_Rev_2_English.paf.exe.png.npy (deflated 11%)\n",
            "updating: content/dataset/nomalware/out/NotepadPlusPlusPortable_7.9.5.paf.exe.png.npy (deflated 10%)\n",
            "updating: content/dataset/nomalware/out/VirtualMagnifyingGlassPortable_3.6.paf.exe.png.npy (deflated 11%)\n",
            "updating: content/dataset/nomalware/out/CppcheckPortable_2.4.1.paf.exe.png.npy (deflated 12%)\n",
            "updating: content/dataset/nomalware/out/NSISPortable_3.06.1_English.paf.exe.png.npy (deflated 11%)\n",
            "updating: content/dataset/nomalware/out/PortableApps.comInstaller_3.5.19.paf.exe.png.npy (deflated 10%)\n",
            "updating: content/dataset/nomalware/out/ArthaPortable_1.0.3_English.paf.exe.png.npy (deflated 12%)\n",
            "updating: content/dataset/nomalware/out/XAMPP_1.7.paf.exe.png.npy (deflated 10%)\n",
            "updating: content/dataset/nomalware/out/IniTranslatorPortable_1.9.0.52_Rev_2.paf.exe.png.npy (deflated 11%)\n",
            "updating: content/dataset/nomalware/out/KompoZerPortable_0.8_Beta_3_English.paf.exe.png.npy (deflated 10%)\n",
            "updating: content/dataset/nomalware/out/BalabolkaPortable_2.15.0.780.paf.exe.png.npy (deflated 12%)\n",
            "updating: content/dataset/nomalware/out/SWI-PrologPortable_8.2.4-1_English.paf.exe.png.npy (deflated 11%)\n",
            "updating: content/dataset/nomalware/out/Notepad2-modPortable_4.2.25.998_English.paf.exe.png.npy (deflated 11%)\n",
            "updating: content/dataset/nomalware/out/gVimPortable_8.2.paf.exe.png.npy (deflated 11%)\n",
            "updating: content/dataset/nomalware/out/AkelPadPortable_4.9.8.paf.exe.png.npy (deflated 10%)\n",
            "updating: content/dataset/nomalware/out/HMNISEditPortable_2.0.3_Rev_2.paf.exe.png.npy (deflated 11%)\n",
            "updating: content/dataset/nomalware/out/FrhedPortable_1.6.0_Rev_3.paf.exe.png.npy (deflated 11%)\n",
            "updating: content/dataset/nomalware/out/GoldenDictPortable_1.0.1_Rev_2.paf.exe.png.npy (deflated 12%)\n",
            "updating: content/dataset/nomalware/out/FreeMatPortable_4.2_English.paf.exe.png.npy (deflated 11%)\n",
            "updating: content/dataset/nomalware/out/GeanyPortable_1.37.1.paf.exe.png.npy (deflated 12%)\n",
            "updating: content/dataset/nomalware/out/DSpeechPortable_1.73.339.paf.exe.png.npy (deflated 11%)\n"
          ],
          "name": "stdout"
        },
        {
          "output_type": "display_data",
          "data": {
            "application/javascript": [
              "\n",
              "    async function download(id, filename, size) {\n",
              "      if (!google.colab.kernel.accessAllowed) {\n",
              "        return;\n",
              "      }\n",
              "      const div = document.createElement('div');\n",
              "      const label = document.createElement('label');\n",
              "      label.textContent = `Downloading \"${filename}\": `;\n",
              "      div.appendChild(label);\n",
              "      const progress = document.createElement('progress');\n",
              "      progress.max = size;\n",
              "      div.appendChild(progress);\n",
              "      document.body.appendChild(div);\n",
              "\n",
              "      const buffers = [];\n",
              "      let downloaded = 0;\n",
              "\n",
              "      const channel = await google.colab.kernel.comms.open(id);\n",
              "      // Send a message to notify the kernel that we're ready.\n",
              "      channel.send({})\n",
              "\n",
              "      for await (const message of channel.messages) {\n",
              "        // Send a message to notify the kernel that we're ready.\n",
              "        channel.send({})\n",
              "        if (message.buffers) {\n",
              "          for (const buffer of message.buffers) {\n",
              "            buffers.push(buffer);\n",
              "            downloaded += buffer.byteLength;\n",
              "            progress.value = downloaded;\n",
              "          }\n",
              "        }\n",
              "      }\n",
              "      const blob = new Blob(buffers, {type: 'application/binary'});\n",
              "      const a = document.createElement('a');\n",
              "      a.href = window.URL.createObjectURL(blob);\n",
              "      a.download = filename;\n",
              "      div.appendChild(a);\n",
              "      a.click();\n",
              "      div.remove();\n",
              "    }\n",
              "  "
            ],
            "text/plain": [
              "<IPython.core.display.Javascript object>"
            ]
          },
          "metadata": {
            "tags": []
          }
        },
        {
          "output_type": "display_data",
          "data": {
            "application/javascript": [
              "download(\"download_a120abf6-7d45-4429-9781-b845ec4a351d\", \"malware.zip\", 52003)"
            ],
            "text/plain": [
              "<IPython.core.display.Javascript object>"
            ]
          },
          "metadata": {
            "tags": []
          }
        },
        {
          "output_type": "display_data",
          "data": {
            "application/javascript": [
              "\n",
              "    async function download(id, filename, size) {\n",
              "      if (!google.colab.kernel.accessAllowed) {\n",
              "        return;\n",
              "      }\n",
              "      const div = document.createElement('div');\n",
              "      const label = document.createElement('label');\n",
              "      label.textContent = `Downloading \"${filename}\": `;\n",
              "      div.appendChild(label);\n",
              "      const progress = document.createElement('progress');\n",
              "      progress.max = size;\n",
              "      div.appendChild(progress);\n",
              "      document.body.appendChild(div);\n",
              "\n",
              "      const buffers = [];\n",
              "      let downloaded = 0;\n",
              "\n",
              "      const channel = await google.colab.kernel.comms.open(id);\n",
              "      // Send a message to notify the kernel that we're ready.\n",
              "      channel.send({})\n",
              "\n",
              "      for await (const message of channel.messages) {\n",
              "        // Send a message to notify the kernel that we're ready.\n",
              "        channel.send({})\n",
              "        if (message.buffers) {\n",
              "          for (const buffer of message.buffers) {\n",
              "            buffers.push(buffer);\n",
              "            downloaded += buffer.byteLength;\n",
              "            progress.value = downloaded;\n",
              "          }\n",
              "        }\n",
              "      }\n",
              "      const blob = new Blob(buffers, {type: 'application/binary'});\n",
              "      const a = document.createElement('a');\n",
              "      a.href = window.URL.createObjectURL(blob);\n",
              "      a.download = filename;\n",
              "      div.appendChild(a);\n",
              "      a.click();\n",
              "      div.remove();\n",
              "    }\n",
              "  "
            ],
            "text/plain": [
              "<IPython.core.display.Javascript object>"
            ]
          },
          "metadata": {
            "tags": []
          }
        },
        {
          "output_type": "display_data",
          "data": {
            "application/javascript": [
              "download(\"download_298c8950-22e7-4b3e-97c0-cd2d4ee6b85c\", \"nomalware.zip\", 39935)"
            ],
            "text/plain": [
              "<IPython.core.display.Javascript object>"
            ]
          },
          "metadata": {
            "tags": []
          }
        }
      ]
    },
    {
      "cell_type": "code",
      "metadata": {
        "colab": {
          "base_uri": "https://localhost:8080/",
          "height": 1000
        },
        "id": "r0u5uOHez6dO",
        "outputId": "23a72f5b-dbc9-4d38-bc8e-41cad8031171"
      },
      "source": [
        "%tensorflow_version 1.x\n",
        "!pip install tf_encrypted\n",
        "!pip install syft==0.2.3"
      ],
      "execution_count": 5,
      "outputs": [
        {
          "output_type": "stream",
          "text": [
            "TensorFlow is already loaded. Please restart the runtime to change versions.\n",
            "Collecting tf_encrypted\n",
            "\u001b[?25l  Downloading https://files.pythonhosted.org/packages/15/be/a4c0af9fdc5e5cee28495460538acf2766382bd572e01d4847abc7608dba/tf_encrypted-0.5.9-py3-none-manylinux1_x86_64.whl (2.7MB)\n",
            "\u001b[K     |████████████████████████████████| 2.7MB 9.6MB/s \n",
            "\u001b[?25hRequirement already satisfied: numpy>=1.14.0 in /usr/local/lib/python3.7/dist-packages (from tf_encrypted) (1.19.5)\n",
            "Collecting pyyaml>=5.1\n",
            "\u001b[?25l  Downloading https://files.pythonhosted.org/packages/7a/a5/393c087efdc78091afa2af9f1378762f9821c9c1d7a22c5753fb5ac5f97a/PyYAML-5.4.1-cp37-cp37m-manylinux1_x86_64.whl (636kB)\n",
            "\u001b[K     |████████████████████████████████| 645kB 50.1MB/s \n",
            "\u001b[?25hCollecting tensorflow<2,>=1.12.0\n",
            "\u001b[?25l  Downloading https://files.pythonhosted.org/packages/9a/51/99abd43185d94adaaaddf8f44a80c418a91977924a7bc39b8dacd0c495b0/tensorflow-1.15.5-cp37-cp37m-manylinux2010_x86_64.whl (110.5MB)\n",
            "\u001b[K     |████████████████████████████████| 110.5MB 48kB/s \n",
            "\u001b[?25hRequirement already satisfied: opt-einsum>=2.3.2 in /usr/local/lib/python3.7/dist-packages (from tensorflow<2,>=1.12.0->tf_encrypted) (3.3.0)\n",
            "Requirement already satisfied: grpcio>=1.8.6 in /usr/local/lib/python3.7/dist-packages (from tensorflow<2,>=1.12.0->tf_encrypted) (1.32.0)\n",
            "Requirement already satisfied: astor>=0.6.0 in /usr/local/lib/python3.7/dist-packages (from tensorflow<2,>=1.12.0->tf_encrypted) (0.8.1)\n",
            "Collecting tensorboard<1.16.0,>=1.15.0\n",
            "\u001b[?25l  Downloading https://files.pythonhosted.org/packages/1e/e9/d3d747a97f7188f48aa5eda486907f3b345cd409f0a0850468ba867db246/tensorboard-1.15.0-py3-none-any.whl (3.8MB)\n",
            "\u001b[K     |████████████████████████████████| 3.8MB 37.6MB/s \n",
            "\u001b[?25hCollecting gast==0.2.2\n",
            "  Downloading https://files.pythonhosted.org/packages/4e/35/11749bf99b2d4e3cceb4d55ca22590b0d7c2c62b9de38ac4a4a7f4687421/gast-0.2.2.tar.gz\n",
            "Requirement already satisfied: google-pasta>=0.1.6 in /usr/local/lib/python3.7/dist-packages (from tensorflow<2,>=1.12.0->tf_encrypted) (0.2.0)\n",
            "Requirement already satisfied: wheel>=0.26; python_version >= \"3\" in /usr/local/lib/python3.7/dist-packages (from tensorflow<2,>=1.12.0->tf_encrypted) (0.36.2)\n",
            "Requirement already satisfied: six>=1.10.0 in /usr/local/lib/python3.7/dist-packages (from tensorflow<2,>=1.12.0->tf_encrypted) (1.15.0)\n",
            "Requirement already satisfied: protobuf>=3.6.1 in /usr/local/lib/python3.7/dist-packages (from tensorflow<2,>=1.12.0->tf_encrypted) (3.12.4)\n",
            "Requirement already satisfied: termcolor>=1.1.0 in /usr/local/lib/python3.7/dist-packages (from tensorflow<2,>=1.12.0->tf_encrypted) (1.1.0)\n",
            "Requirement already satisfied: absl-py>=0.7.0 in /usr/local/lib/python3.7/dist-packages (from tensorflow<2,>=1.12.0->tf_encrypted) (0.12.0)\n",
            "Requirement already satisfied: h5py<=2.10.0 in /usr/local/lib/python3.7/dist-packages (from tensorflow<2,>=1.12.0->tf_encrypted) (2.10.0)\n",
            "Collecting tensorflow-estimator==1.15.1\n",
            "\u001b[?25l  Downloading https://files.pythonhosted.org/packages/de/62/2ee9cd74c9fa2fa450877847ba560b260f5d0fb70ee0595203082dafcc9d/tensorflow_estimator-1.15.1-py2.py3-none-any.whl (503kB)\n",
            "\u001b[K     |████████████████████████████████| 512kB 45.0MB/s \n",
            "\u001b[?25hCollecting keras-applications>=1.0.8\n",
            "\u001b[?25l  Downloading https://files.pythonhosted.org/packages/71/e3/19762fdfc62877ae9102edf6342d71b28fbfd9dea3d2f96a882ce099b03f/Keras_Applications-1.0.8-py3-none-any.whl (50kB)\n",
            "\u001b[K     |████████████████████████████████| 51kB 4.9MB/s \n",
            "\u001b[?25hRequirement already satisfied: keras-preprocessing>=1.0.5 in /usr/local/lib/python3.7/dist-packages (from tensorflow<2,>=1.12.0->tf_encrypted) (1.1.2)\n",
            "Requirement already satisfied: wrapt>=1.11.1 in /usr/local/lib/python3.7/dist-packages (from tensorflow<2,>=1.12.0->tf_encrypted) (1.12.1)\n",
            "Requirement already satisfied: werkzeug>=0.11.15 in /usr/local/lib/python3.7/dist-packages (from tensorboard<1.16.0,>=1.15.0->tensorflow<2,>=1.12.0->tf_encrypted) (1.0.1)\n",
            "Requirement already satisfied: setuptools>=41.0.0 in /usr/local/lib/python3.7/dist-packages (from tensorboard<1.16.0,>=1.15.0->tensorflow<2,>=1.12.0->tf_encrypted) (56.0.0)\n",
            "Requirement already satisfied: markdown>=2.6.8 in /usr/local/lib/python3.7/dist-packages (from tensorboard<1.16.0,>=1.15.0->tensorflow<2,>=1.12.0->tf_encrypted) (3.3.4)\n",
            "Requirement already satisfied: importlib-metadata; python_version < \"3.8\" in /usr/local/lib/python3.7/dist-packages (from markdown>=2.6.8->tensorboard<1.16.0,>=1.15.0->tensorflow<2,>=1.12.0->tf_encrypted) (3.10.1)\n",
            "Requirement already satisfied: typing-extensions>=3.6.4; python_version < \"3.8\" in /usr/local/lib/python3.7/dist-packages (from importlib-metadata; python_version < \"3.8\"->markdown>=2.6.8->tensorboard<1.16.0,>=1.15.0->tensorflow<2,>=1.12.0->tf_encrypted) (3.7.4.3)\n",
            "Requirement already satisfied: zipp>=0.5 in /usr/local/lib/python3.7/dist-packages (from importlib-metadata; python_version < \"3.8\"->markdown>=2.6.8->tensorboard<1.16.0,>=1.15.0->tensorflow<2,>=1.12.0->tf_encrypted) (3.4.1)\n",
            "Building wheels for collected packages: gast\n",
            "  Building wheel for gast (setup.py) ... \u001b[?25l\u001b[?25hdone\n",
            "  Created wheel for gast: filename=gast-0.2.2-cp37-none-any.whl size=7540 sha256=97bba1f2723b1e74ec69fbfdbee0fc69bdf7563e4bfdbd0c225f4b4e9f926df9\n",
            "  Stored in directory: /root/.cache/pip/wheels/5c/2e/7e/a1d4d4fcebe6c381f378ce7743a3ced3699feb89bcfbdadadd\n",
            "Successfully built gast\n",
            "\u001b[31mERROR: tensorflow 1.15.5 has requirement numpy<1.19.0,>=1.16.0, but you'll have numpy 1.19.5 which is incompatible.\u001b[0m\n",
            "\u001b[31mERROR: tensorflow-probability 0.12.1 has requirement gast>=0.3.2, but you'll have gast 0.2.2 which is incompatible.\u001b[0m\n",
            "Installing collected packages: pyyaml, tensorboard, gast, tensorflow-estimator, keras-applications, tensorflow, tf-encrypted\n",
            "  Found existing installation: PyYAML 3.13\n",
            "    Uninstalling PyYAML-3.13:\n",
            "      Successfully uninstalled PyYAML-3.13\n",
            "  Found existing installation: tensorboard 2.4.1\n",
            "    Uninstalling tensorboard-2.4.1:\n",
            "      Successfully uninstalled tensorboard-2.4.1\n",
            "  Found existing installation: gast 0.3.3\n",
            "    Uninstalling gast-0.3.3:\n",
            "      Successfully uninstalled gast-0.3.3\n",
            "  Found existing installation: tensorflow-estimator 2.4.0\n",
            "    Uninstalling tensorflow-estimator-2.4.0:\n",
            "      Successfully uninstalled tensorflow-estimator-2.4.0\n",
            "  Found existing installation: tensorflow 2.4.1\n",
            "    Uninstalling tensorflow-2.4.1:\n",
            "      Successfully uninstalled tensorflow-2.4.1\n",
            "Successfully installed gast-0.2.2 keras-applications-1.0.8 pyyaml-5.4.1 tensorboard-1.15.0 tensorflow-1.15.5 tensorflow-estimator-1.15.1 tf-encrypted-0.5.9\n"
          ],
          "name": "stdout"
        },
        {
          "output_type": "display_data",
          "data": {
            "application/vnd.colab-display-data+json": {
              "pip_warning": {
                "packages": [
                  "gast",
                  "tensorboard",
                  "tensorflow",
                  "yaml"
                ]
              }
            }
          },
          "metadata": {
            "tags": []
          }
        },
        {
          "output_type": "stream",
          "text": [
            "Collecting syft==0.2.3\n",
            "\u001b[?25l  Downloading https://files.pythonhosted.org/packages/3c/79/78a2a7bedf487b711aa27ac31c8971df227cccd81c63e7448262b3c8e290/syft-0.2.3-py3-none-any.whl (331kB)\n",
            "\r\u001b[K     |█                               | 10kB 10.8MB/s eta 0:00:01\r\u001b[K     |██                              | 20kB 15.2MB/s eta 0:00:01\r\u001b[K     |███                             | 30kB 10.0MB/s eta 0:00:01\r\u001b[K     |████                            | 40kB 8.4MB/s eta 0:00:01\r\u001b[K     |█████                           | 51kB 7.4MB/s eta 0:00:01\r\u001b[K     |██████                          | 61kB 6.4MB/s eta 0:00:01\r\u001b[K     |███████                         | 71kB 7.1MB/s eta 0:00:01\r\u001b[K     |████████                        | 81kB 7.9MB/s eta 0:00:01\r\u001b[K     |█████████                       | 92kB 7.5MB/s eta 0:00:01\r\u001b[K     |█████████▉                      | 102kB 7.1MB/s eta 0:00:01\r\u001b[K     |██████████▉                     | 112kB 7.1MB/s eta 0:00:01\r\u001b[K     |███████████▉                    | 122kB 7.1MB/s eta 0:00:01\r\u001b[K     |████████████▉                   | 133kB 7.1MB/s eta 0:00:01\r\u001b[K     |█████████████▉                  | 143kB 7.1MB/s eta 0:00:01\r\u001b[K     |██████████████▉                 | 153kB 7.1MB/s eta 0:00:01\r\u001b[K     |███████████████▉                | 163kB 7.1MB/s eta 0:00:01\r\u001b[K     |████████████████▉               | 174kB 7.1MB/s eta 0:00:01\r\u001b[K     |█████████████████▉              | 184kB 7.1MB/s eta 0:00:01\r\u001b[K     |██████████████████▊             | 194kB 7.1MB/s eta 0:00:01\r\u001b[K     |███████████████████▊            | 204kB 7.1MB/s eta 0:00:01\r\u001b[K     |████████████████████▊           | 215kB 7.1MB/s eta 0:00:01\r\u001b[K     |█████████████████████▊          | 225kB 7.1MB/s eta 0:00:01\r\u001b[K     |██████████████████████▊         | 235kB 7.1MB/s eta 0:00:01\r\u001b[K     |███████████████████████▊        | 245kB 7.1MB/s eta 0:00:01\r\u001b[K     |████████████████████████▊       | 256kB 7.1MB/s eta 0:00:01\r\u001b[K     |█████████████████████████▊      | 266kB 7.1MB/s eta 0:00:01\r\u001b[K     |██████████████████████████▊     | 276kB 7.1MB/s eta 0:00:01\r\u001b[K     |███████████████████████████▊    | 286kB 7.1MB/s eta 0:00:01\r\u001b[K     |████████████████████████████▋   | 296kB 7.1MB/s eta 0:00:01\r\u001b[K     |█████████████████████████████▋  | 307kB 7.1MB/s eta 0:00:01\r\u001b[K     |██████████████████████████████▋ | 317kB 7.1MB/s eta 0:00:01\r\u001b[K     |███████████████████████████████▋| 327kB 7.1MB/s eta 0:00:01\r\u001b[K     |████████████████████████████████| 337kB 7.1MB/s \n",
            "\u001b[?25hRequirement already satisfied: scipy~=1.4.1 in /usr/local/lib/python3.7/dist-packages (from syft==0.2.3) (1.4.1)\n",
            "Collecting lz4~=3.0.2\n",
            "\u001b[?25l  Downloading https://files.pythonhosted.org/packages/65/38/dacc3cbb33a9ded9e2e57f48707e8842f1080997901578ebddaa0e031646/lz4-3.0.2-cp37-cp37m-manylinux2010_x86_64.whl (1.8MB)\n",
            "\u001b[K     |████████████████████████████████| 1.8MB 11.2MB/s \n",
            "\u001b[?25hCollecting flask-socketio~=4.2.1\n",
            "  Downloading https://files.pythonhosted.org/packages/66/44/edc4715af85671b943c18ac8345d0207972284a0cd630126ff5251faa08b/Flask_SocketIO-4.2.1-py2.py3-none-any.whl\n",
            "Collecting websockets~=8.1.0\n",
            "\u001b[?25l  Downloading https://files.pythonhosted.org/packages/5a/0b/3ebc752392a368af14dd24ee041683416ac6d2463eead94b311b11e41c82/websockets-8.1-cp37-cp37m-manylinux2010_x86_64.whl (79kB)\n",
            "\u001b[K     |████████████████████████████████| 81kB 7.8MB/s \n",
            "\u001b[?25hRequirement already satisfied: msgpack~=1.0.0 in /usr/local/lib/python3.7/dist-packages (from syft==0.2.3) (1.0.2)\n",
            "Requirement already satisfied: Flask~=1.1.1 in /usr/local/lib/python3.7/dist-packages (from syft==0.2.3) (1.1.2)\n",
            "Collecting syft-proto~=0.2.1.a1.post2\n",
            "\u001b[?25l  Downloading https://files.pythonhosted.org/packages/f3/f6/ecee0b9c6b623cbb4ead4f60464c7813ab5d8edc3036f413b576be86e725/syft_proto-0.2.1a1.post2-py3-none-any.whl (42kB)\n",
            "\u001b[K     |████████████████████████████████| 51kB 5.4MB/s \n",
            "\u001b[?25hCollecting torch~=1.4.0\n",
            "\u001b[?25l  Downloading https://files.pythonhosted.org/packages/1a/3b/fa92ece1e58a6a48ec598bab327f39d69808133e5b2fb33002ca754e381e/torch-1.4.0-cp37-cp37m-manylinux1_x86_64.whl (753.4MB)\n",
            "\u001b[K     |████████████████████████████████| 753.4MB 21kB/s \n",
            "\u001b[?25hCollecting websocket-client~=0.57.0\n",
            "\u001b[?25l  Downloading https://files.pythonhosted.org/packages/4c/5f/f61b420143ed1c8dc69f9eaec5ff1ac36109d52c80de49d66e0c36c3dfdf/websocket_client-0.57.0-py2.py3-none-any.whl (200kB)\n",
            "\u001b[K     |████████████████████████████████| 204kB 57.2MB/s \n",
            "\u001b[?25hCollecting tblib~=1.6.0\n",
            "  Downloading https://files.pythonhosted.org/packages/0d/de/dca3e651ca62e59c08d324f4a51467fa4b8cbeaafb883b5e83720b4d4a47/tblib-1.6.0-py2.py3-none-any.whl\n",
            "Collecting phe~=1.4.0\n",
            "  Downloading https://files.pythonhosted.org/packages/32/0e/568e97b014eb14e794a1258a341361e9da351dc6240c63b89e1541e3341c/phe-1.4.0.tar.gz\n",
            "Collecting zstd~=1.4.4.0\n",
            "\u001b[?25l  Downloading https://files.pythonhosted.org/packages/0b/46/c17843364277eef48437c1ad8d083600c82afab23b6bc8281eae247d0277/zstd-1.4.4.0.tar.gz (469kB)\n",
            "\u001b[K     |████████████████████████████████| 471kB 47.8MB/s \n",
            "\u001b[?25hCollecting numpy~=1.18.1\n",
            "\u001b[?25l  Downloading https://files.pythonhosted.org/packages/d6/c6/58e517e8b1fb192725cfa23c01c2e60e4e6699314ee9684a1c5f5c9b27e1/numpy-1.18.5-cp37-cp37m-manylinux1_x86_64.whl (20.1MB)\n",
            "\u001b[K     |████████████████████████████████| 20.1MB 1.4MB/s \n",
            "\u001b[?25hCollecting requests~=2.22.0\n",
            "\u001b[?25l  Downloading https://files.pythonhosted.org/packages/51/bd/23c926cd341ea6b7dd0b2a00aba99ae0f828be89d72b2190f27c11d4b7fb/requests-2.22.0-py2.py3-none-any.whl (57kB)\n",
            "\u001b[K     |████████████████████████████████| 61kB 5.7MB/s \n",
            "\u001b[?25hCollecting Pillow~=6.2.2\n",
            "\u001b[?25l  Downloading https://files.pythonhosted.org/packages/c3/3f/03375124676ab49ca6e6917c0f1f663afb8354d5d24e12f4fe4587a39ae2/Pillow-6.2.2-cp37-cp37m-manylinux1_x86_64.whl (2.1MB)\n",
            "\u001b[K     |████████████████████████████████| 2.1MB 40.0MB/s \n",
            "\u001b[?25hCollecting torchvision~=0.5.0\n",
            "\u001b[?25l  Downloading https://files.pythonhosted.org/packages/1c/32/cb0e4c43cd717da50258887b088471568990b5a749784c465a8a1962e021/torchvision-0.5.0-cp37-cp37m-manylinux1_x86_64.whl (4.0MB)\n",
            "\u001b[K     |████████████████████████████████| 4.0MB 42.1MB/s \n",
            "\u001b[?25hCollecting python-socketio>=4.3.0\n",
            "\u001b[?25l  Downloading https://files.pythonhosted.org/packages/52/87/4503777f71dc2b125b18c43989d0afdf0e7306d0d8682ec6691209cc9329/python_socketio-5.2.1-py2.py3-none-any.whl (53kB)\n",
            "\u001b[K     |████████████████████████████████| 61kB 6.2MB/s \n",
            "\u001b[?25hRequirement already satisfied: click>=5.1 in /usr/local/lib/python3.7/dist-packages (from Flask~=1.1.1->syft==0.2.3) (7.1.2)\n",
            "Requirement already satisfied: itsdangerous>=0.24 in /usr/local/lib/python3.7/dist-packages (from Flask~=1.1.1->syft==0.2.3) (1.1.0)\n",
            "Requirement already satisfied: Jinja2>=2.10.1 in /usr/local/lib/python3.7/dist-packages (from Flask~=1.1.1->syft==0.2.3) (2.11.3)\n",
            "Requirement already satisfied: Werkzeug>=0.15 in /usr/local/lib/python3.7/dist-packages (from Flask~=1.1.1->syft==0.2.3) (1.0.1)\n",
            "Requirement already satisfied: protobuf>=3.11.1 in /usr/local/lib/python3.7/dist-packages (from syft-proto~=0.2.1.a1.post2->syft==0.2.3) (3.12.4)\n",
            "Requirement already satisfied: six in /usr/local/lib/python3.7/dist-packages (from websocket-client~=0.57.0->syft==0.2.3) (1.15.0)\n",
            "Requirement already satisfied: chardet<3.1.0,>=3.0.2 in /usr/local/lib/python3.7/dist-packages (from requests~=2.22.0->syft==0.2.3) (3.0.4)\n",
            "Requirement already satisfied: certifi>=2017.4.17 in /usr/local/lib/python3.7/dist-packages (from requests~=2.22.0->syft==0.2.3) (2020.12.5)\n",
            "Collecting idna<2.9,>=2.5\n",
            "\u001b[?25l  Downloading https://files.pythonhosted.org/packages/14/2c/cd551d81dbe15200be1cf41cd03869a46fe7226e7450af7a6545bfc474c9/idna-2.8-py2.py3-none-any.whl (58kB)\n",
            "\u001b[K     |████████████████████████████████| 61kB 6.3MB/s \n",
            "\u001b[?25hRequirement already satisfied: urllib3!=1.25.0,!=1.25.1,<1.26,>=1.21.1 in /usr/local/lib/python3.7/dist-packages (from requests~=2.22.0->syft==0.2.3) (1.24.3)\n",
            "Collecting bidict>=0.21.0\n",
            "  Downloading https://files.pythonhosted.org/packages/67/d4/eaf9242722bf991e0955380dd6168020cb15a71cc0d3cc2373f4911b1f1d/bidict-0.21.2-py2.py3-none-any.whl\n",
            "Collecting python-engineio>=4.1.0\n",
            "\u001b[?25l  Downloading https://files.pythonhosted.org/packages/46/f6/9515c8357935d4fe58b526ab5b4857245948fa1b5f607cf63d4663cce5c2/python_engineio-4.1.0-py2.py3-none-any.whl (51kB)\n",
            "\u001b[K     |████████████████████████████████| 61kB 6.1MB/s \n",
            "\u001b[?25hRequirement already satisfied: MarkupSafe>=0.23 in /usr/local/lib/python3.7/dist-packages (from Jinja2>=2.10.1->Flask~=1.1.1->syft==0.2.3) (1.1.1)\n",
            "Requirement already satisfied: setuptools in /usr/local/lib/python3.7/dist-packages (from protobuf>=3.11.1->syft-proto~=0.2.1.a1.post2->syft==0.2.3) (56.0.0)\n",
            "Building wheels for collected packages: phe, zstd\n",
            "  Building wheel for phe (setup.py) ... \u001b[?25l\u001b[?25hdone\n",
            "  Created wheel for phe: filename=phe-1.4.0-py2.py3-none-any.whl size=37362 sha256=7846348d2cb5ba9360e7f8c1cc39bb86802630c8abb4d197688b1308d13a03f8\n",
            "  Stored in directory: /root/.cache/pip/wheels/f8/dc/36/dcb6bf0f1b9907e7b710ace63e64d08e7022340909315fdea4\n",
            "  Building wheel for zstd (setup.py) ... \u001b[?25l\u001b[?25hdone\n",
            "  Created wheel for zstd: filename=zstd-1.4.4.0-cp37-cp37m-linux_x86_64.whl size=1130523 sha256=37938164f7a9f9ec5dab20611f61da4e391b34969a571af8a81a55e7c94bd9d7\n",
            "  Stored in directory: /root/.cache/pip/wheels/ce/0d/5a/3c2ccf5522d1cd3ecdeb2af8c9889179d7a204376b1d5c042d\n",
            "Successfully built phe zstd\n",
            "\u001b[31mERROR: torchtext 0.9.1 has requirement torch==1.8.1, but you'll have torch 1.4.0 which is incompatible.\u001b[0m\n",
            "\u001b[31mERROR: tensorflow-probability 0.12.1 has requirement gast>=0.3.2, but you'll have gast 0.2.2 which is incompatible.\u001b[0m\n",
            "\u001b[31mERROR: google-colab 1.0.0 has requirement requests~=2.23.0, but you'll have requests 2.22.0 which is incompatible.\u001b[0m\n",
            "\u001b[31mERROR: datascience 0.10.6 has requirement folium==0.2.1, but you'll have folium 0.8.3 which is incompatible.\u001b[0m\n",
            "\u001b[31mERROR: bokeh 2.3.1 has requirement pillow>=7.1.0, but you'll have pillow 6.2.2 which is incompatible.\u001b[0m\n",
            "\u001b[31mERROR: albumentations 0.1.12 has requirement imgaug<0.2.7,>=0.2.5, but you'll have imgaug 0.2.9 which is incompatible.\u001b[0m\n",
            "Installing collected packages: lz4, bidict, python-engineio, python-socketio, flask-socketio, websockets, syft-proto, torch, websocket-client, tblib, phe, zstd, numpy, idna, requests, Pillow, torchvision, syft\n",
            "  Found existing installation: torch 1.8.1+cu101\n",
            "    Uninstalling torch-1.8.1+cu101:\n",
            "      Successfully uninstalled torch-1.8.1+cu101\n",
            "  Found existing installation: tblib 1.7.0\n",
            "    Uninstalling tblib-1.7.0:\n",
            "      Successfully uninstalled tblib-1.7.0\n",
            "  Found existing installation: numpy 1.19.5\n",
            "    Uninstalling numpy-1.19.5:\n",
            "      Successfully uninstalled numpy-1.19.5\n",
            "  Found existing installation: idna 2.10\n",
            "    Uninstalling idna-2.10:\n",
            "      Successfully uninstalled idna-2.10\n",
            "  Found existing installation: requests 2.23.0\n",
            "    Uninstalling requests-2.23.0:\n",
            "      Successfully uninstalled requests-2.23.0\n",
            "  Found existing installation: Pillow 7.1.2\n",
            "    Uninstalling Pillow-7.1.2:\n",
            "      Successfully uninstalled Pillow-7.1.2\n",
            "  Found existing installation: torchvision 0.9.1+cu101\n",
            "    Uninstalling torchvision-0.9.1+cu101:\n",
            "      Successfully uninstalled torchvision-0.9.1+cu101\n",
            "Successfully installed Pillow-6.2.2 bidict-0.21.2 flask-socketio-4.2.1 idna-2.8 lz4-3.0.2 numpy-1.18.5 phe-1.4.0 python-engineio-4.1.0 python-socketio-5.2.1 requests-2.22.0 syft-0.2.3 syft-proto-0.2.1a1.post2 tblib-1.6.0 torch-1.4.0 torchvision-0.5.0 websocket-client-0.57.0 websockets-8.1 zstd-1.4.4.0\n"
          ],
          "name": "stdout"
        },
        {
          "output_type": "display_data",
          "data": {
            "application/vnd.colab-display-data+json": {
              "pip_warning": {
                "packages": [
                  "PIL",
                  "idna",
                  "numpy",
                  "requests",
                  "tblib"
                ]
              }
            }
          },
          "metadata": {
            "tags": []
          }
        }
      ]
    },
    {
      "cell_type": "code",
      "metadata": {
        "colab": {
          "base_uri": "https://localhost:8080/"
        },
        "id": "BI-A_Z_2FGLN",
        "outputId": "4c175e62-ab98-48b2-e86b-9e9fb9a1078e"
      },
      "source": [
        "import tensorflow as tf\n",
        "import tensorflow as tfe\n",
        "\n",
        "from tensorflow.keras.utils import to_categorical\n",
        "from sklearn.model_selection import train_test_split\n",
        "\n",
        "import numpy\n",
        "import sys\n",
        "import threading\n",
        "import time\n",
        "\n",
        "import syft as sy\n",
        "hook = sy.KerasHook(tf.keras)\n",
        "\n",
        "model = Model()\n",
        "model.load_weights('antivirus.h5')\n",
        "\n",
        "AUTO = True\n",
        "\n",
        "alice = sy.TFEWorker(host='localhost:4000', auto_managed=AUTO)\n",
        "bob = sy.TFEWorker(host='localhost:4001', auto_managed=AUTO)\n",
        "carol = sy.TFEWorker(host='localhost:4002', auto_managed=AUTO)\n",
        "\n",
        "cluster = sy.TFECluster(alice, bob, carol)\n",
        "cluster.start()\n",
        "\n",
        "def serve():\n",
        "  model.share(cluster)\n",
        "  model.serve(num_requests=3)\n",
        "\n",
        "thread = threading.Thread(target=serve, daemon=True)\n",
        "thread.run()\n",
        "\n",
        "time.sleep(1)\n",
        "\n",
        "client = sy.TFEWorker()\n",
        "\n",
        "for x, y in zip(test_X, test_Y):\n",
        "  x = x.reshape(32,32, 1)\n",
        "\n",
        "  print('send query')\n",
        "  print(\"label:\", y)\n",
        "\n",
        "  result = client.query_model(x)\n",
        "  print(\"result1:\", numpy.argmax(result))\n",
        "  print(\"result2:\", numpy.mean(result))\n",
        "  print(\"result3:\", numpy.median(result))\n",
        "\n",
        "\n"
      ],
      "execution_count": null,
      "outputs": [
        {
          "output_type": "stream",
          "text": [
            "Falling back to insecure randomness since the required custom op could not be found for the installed version of TensorFlow. Fix this by compiling custom ops. Missing file was '/usr/local/lib/python3.7/dist-packages/tf_encrypted/operations/secure_random/secure_random_module_tf_1.15.5.so'\n"
          ],
          "name": "stderr"
        },
        {
          "output_type": "stream",
          "text": [
            "WARNING:tensorflow:From /usr/local/lib/python3.7/dist-packages/tf_encrypted/session.py:24: The name tf.Session is deprecated. Please use tf.compat.v1.Session instead.\n",
            "\n",
            "WARNING:tensorflow:From /usr/local/lib/python3.7/dist-packages/tf_encrypted/keras/engine/base_layer_utils.py:29: The name tf.get_default_graph is deprecated. Please use tf.compat.v1.get_default_graph instead.\n",
            "\n",
            "WARNING:tensorflow:From /usr/local/lib/python3.7/dist-packages/tf_encrypted/tensor/native.py:415: The name tf.placeholder is deprecated. Please use tf.compat.v1.placeholder instead.\n",
            "\n",
            "WARNING:tensorflow:From /usr/local/lib/python3.7/dist-packages/tf_encrypted/tensor/native.py:101: The name tf.random_uniform is deprecated. Please use tf.random.uniform instead.\n",
            "\n",
            "WARNING:tensorflow:From /usr/local/lib/python3.7/dist-packages/tf_encrypted/tensor/shared.py:62: calling extract_image_patches (from tensorflow.python.ops.array_ops) with ksizes is deprecated and will be removed in a future version.\n",
            "Instructions for updating:\n",
            "ksizes is deprecated, use sizes instead\n",
            "WARNING:tensorflow:From /usr/local/lib/python3.7/dist-packages/syft/frameworks/keras/model/sequential.py:54: The name tf.global_variables_initializer is deprecated. Please use tf.compat.v1.global_variables_initializer instead.\n",
            "\n",
            "WARNING:tensorflow:From /usr/local/lib/python3.7/dist-packages/tf_encrypted/config.py:297: The name tf.ConfigProto is deprecated. Please use tf.compat.v1.ConfigProto instead.\n",
            "\n",
            "WARNING:tensorflow:From /usr/local/lib/python3.7/dist-packages/tf_encrypted/config.py:84: The name tf.GraphOptions is deprecated. Please use tf.compat.v1.GraphOptions instead.\n",
            "\n"
          ],
          "name": "stdout"
        }
      ]
    },
    {
      "cell_type": "code",
      "metadata": {
        "id": "BcXNZGgRBAEh"
      },
      "source": [
        ""
      ],
      "execution_count": null,
      "outputs": []
    },
    {
      "cell_type": "code",
      "metadata": {
        "colab": {
          "base_uri": "https://localhost:8080/",
          "height": 435
        },
        "id": "FYaUaw0lw61z",
        "outputId": "01a2d9b4-e2e6-4d63-e31b-40d5e181e946"
      },
      "source": [
        ""
      ],
      "execution_count": null,
      "outputs": [
        {
          "output_type": "error",
          "ename": "ModuleNotFoundError",
          "evalue": "ignored",
          "traceback": [
            "\u001b[0;31m---------------------------------------------------------------------------\u001b[0m",
            "\u001b[0;31mModuleNotFoundError\u001b[0m                       Traceback (most recent call last)",
            "\u001b[0;32m<ipython-input-10-e5209dff7514>\u001b[0m in \u001b[0;36m<module>\u001b[0;34m()\u001b[0m\n\u001b[1;32m     12\u001b[0m \u001b[0;34m\u001b[0m\u001b[0m\n\u001b[1;32m     13\u001b[0m \u001b[0;32mimport\u001b[0m \u001b[0mtf_encrypted\u001b[0m \u001b[0;32mas\u001b[0m \u001b[0mtfe\u001b[0m\u001b[0;34m\u001b[0m\u001b[0;34m\u001b[0m\u001b[0m\n\u001b[0;32m---> 14\u001b[0;31m \u001b[0;32mfrom\u001b[0m \u001b[0mconvert\u001b[0m \u001b[0;32mimport\u001b[0m \u001b[0mdecode\u001b[0m\u001b[0;34m\u001b[0m\u001b[0;34m\u001b[0m\u001b[0m\n\u001b[0m\u001b[1;32m     15\u001b[0m \u001b[0;34m\u001b[0m\u001b[0m\n\u001b[1;32m     16\u001b[0m \u001b[0;32mif\u001b[0m \u001b[0mlen\u001b[0m\u001b[0;34m(\u001b[0m\u001b[0msys\u001b[0m\u001b[0;34m.\u001b[0m\u001b[0margv\u001b[0m\u001b[0;34m)\u001b[0m \u001b[0;34m>\u001b[0m \u001b[0;36m1\u001b[0m\u001b[0;34m:\u001b[0m\u001b[0;34m\u001b[0m\u001b[0;34m\u001b[0m\u001b[0m\n",
            "\u001b[0;31mModuleNotFoundError\u001b[0m: No module named 'convert'",
            "",
            "\u001b[0;31m---------------------------------------------------------------------------\u001b[0;32m\nNOTE: If your import is failing due to a missing package, you can\nmanually install dependencies using either !pip or !apt.\n\nTo view examples of installing some common dependencies, click the\n\"Open Examples\" button below.\n\u001b[0;31m---------------------------------------------------------------------------\u001b[0m\n"
          ]
        }
      ]
    },
    {
      "cell_type": "code",
      "metadata": {
        "colab": {
          "base_uri": "https://localhost:8080/",
          "height": 418
        },
        "id": "fypTrNnd2m0f",
        "outputId": "72e506fd-5490-4b43-a5af-99a2b6865991"
      },
      "source": [
        "!pip list | grep lear\n",
        "import pyleargist\n"
      ],
      "execution_count": null,
      "outputs": [
        {
          "output_type": "stream",
          "text": [
            "imbalanced-learn              0.4.3         \n",
            "imblearn                      0.0           \n",
            "pyleargist                    2.0.5         \n",
            "scikit-learn                  0.22.2.post1  \n",
            "sklearn                       0.0           \n",
            "sklearn-pandas                1.8.0         \n"
          ],
          "name": "stdout"
        },
        {
          "output_type": "error",
          "ename": "ModuleNotFoundError",
          "evalue": "ignored",
          "traceback": [
            "\u001b[0;31m---------------------------------------------------------------------------\u001b[0m",
            "\u001b[0;31mModuleNotFoundError\u001b[0m                       Traceback (most recent call last)",
            "\u001b[0;32m<ipython-input-8-7535ea7c8919>\u001b[0m in \u001b[0;36m<module>\u001b[0;34m()\u001b[0m\n\u001b[1;32m      1\u001b[0m \u001b[0mget_ipython\u001b[0m\u001b[0;34m(\u001b[0m\u001b[0;34m)\u001b[0m\u001b[0;34m.\u001b[0m\u001b[0msystem\u001b[0m\u001b[0;34m(\u001b[0m\u001b[0;34m'pip list | grep lear'\u001b[0m\u001b[0;34m)\u001b[0m\u001b[0;34m\u001b[0m\u001b[0;34m\u001b[0m\u001b[0m\n\u001b[0;32m----> 2\u001b[0;31m \u001b[0;32mimport\u001b[0m \u001b[0mpyleargist\u001b[0m\u001b[0;34m\u001b[0m\u001b[0;34m\u001b[0m\u001b[0m\n\u001b[0m",
            "\u001b[0;31mModuleNotFoundError\u001b[0m: No module named 'pyleargist'",
            "",
            "\u001b[0;31m---------------------------------------------------------------------------\u001b[0;32m\nNOTE: If your import is failing due to a missing package, you can\nmanually install dependencies using either !pip or !apt.\n\nTo view examples of installing some common dependencies, click the\n\"Open Examples\" button below.\n\u001b[0;31m---------------------------------------------------------------------------\u001b[0m\n"
          ]
        }
      ]
    },
    {
      "cell_type": "code",
      "metadata": {
        "id": "cmxivJttfgbp"
      },
      "source": [
        "!rm -rf * "
      ],
      "execution_count": null,
      "outputs": []
    }
  ]
}